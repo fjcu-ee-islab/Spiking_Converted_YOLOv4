{
 "cells": [
  {
   "cell_type": "code",
   "execution_count": 1,
   "metadata": {},
   "outputs": [
    {
     "name": "stdout",
     "output_type": "stream",
     "text": [
      "[1620114998005894]\n",
      "2299\n"
     ]
    }
   ],
   "source": [
    "import sys\n",
    "import os\n",
    "import struct\n",
    "import math\n",
    "import cv2\n",
    "import numpy as np\n",
    "import argparse\n",
    "from dv import AedatFile\n",
    "from PIL import Image\n",
    "import matplotlib.pyplot as plt\n",
    "\n",
    "\n",
    "\n",
    "if __name__ == '__main__':\n",
    "    \n",
    "    router = '/home/shon/code/fju_event_pedestrian_detection/no_background/scale3_2/scale3_20000_sae/'\n",
    "    fourcc = cv2.VideoWriter_fourcc(*'XVID')\n",
    "    out = cv2.VideoWriter(router+'output6.avi',fourcc,60,(346,260))\n",
    "    \n",
    "    #aedat4使用\n",
    "    with AedatFile(\"/home/shon/code/fju_event_pedestrian_detection/no_background/scale3_2/dvSave-2021_05_04_15_56_37.aedat4\") as f:\n",
    "    # events will be a named numpy array\n",
    "        events = np.hstack([packet for packet in f['events'].numpy()])\n",
    "    \n",
    "    # Access information of all events by type\n",
    "        timestamps4, x4, y4, polarities4 = events['timestamp'], events['x'], events['y'], events['polarity']\n",
    "    \n",
    "    reT4 = np.array(timestamps4).reshape((-1, 1))#(行，列) (-1,1)代表我不知道要轉成幾行，但是固定要1列，-1就為最大行\n",
    "    reX4 = np.array(x4).reshape((-1, 1))\n",
    "    reY4 = np.array(y4).reshape((-1, 1))\n",
    "    reP4 = np.array(polarities4).reshape((-1, 1))\n",
    "    \n",
    "\n",
    "    \n",
    "    step_time = 20000 #代表是0.01秒為一張\n",
    "    start_idx = 0\n",
    "    end_idx = 0\n",
    "    start_time = reT4[0]\n",
    "    print(start_time)\n",
    "    end_time = start_time + step_time\n",
    "    img_count = 1902\n",
    "    \n",
    "    while end_time <= reT4[-1]:\n",
    "        \n",
    " \n",
    "        while reT4[end_idx] < end_time:\n",
    "            end_idx = end_idx + 1\n",
    "        \n",
    "        data_x = np.array(reX4[start_idx:end_idx]).reshape((-1, 1))\n",
    "        data_y = np.array(reY4[start_idx:end_idx]).reshape((-1, 1))\n",
    "        data_T = np.array(reT4[start_idx:end_idx]).reshape((-1, 1))\n",
    "        data = np.column_stack((data_x, data_y)).astype(np.int32)\n",
    "        \n",
    "        timestamp=start_time*np.ones((260,346))\n",
    "        \n",
    "        for i in range(0, data.shape[0]):\n",
    "            timestamp[data[i,1], data[i,0]]=data_T[i]\n",
    "           \n",
    "        grayscale = np.flip(255*(timestamp-start_time)/step_time, 0).astype(np.uint8)#The normalization formula\n",
    "        grayscale = np.flip(grayscale,0)\n",
    "        cv2.imshow('img',grayscale)\n",
    "       \n",
    "        cv2.waitKey(5)\n",
    "        wfile= router+'scale3_sae_20000_' + str(img_count) + '.jpg'\n",
    "        #image_out\n",
    "        cv2.imwrite(wfile,grayscale)\n",
    "        #video_out(numpy不能存成影片)\n",
    "        vidimg = cv2.imread(wfile)\n",
    "        out.write(vidimg)\n",
    "\n",
    "        start_time = end_time\n",
    "        end_time += step_time\n",
    "        start_idx = end_idx\n",
    "        img_count += 1\n",
    "        \n",
    "print(img_count)\n",
    "#cv2.waitKey(0)\n",
    "out.release()\n",
    "cv2.destroyAllWindows()"
   ]
  },
  {
   "cell_type": "code",
   "execution_count": null,
   "metadata": {},
   "outputs": [],
   "source": []
  }
 ],
 "metadata": {
  "kernelspec": {
   "display_name": "Python 3",
   "language": "python",
   "name": "python3"
  },
  "language_info": {
   "codemirror_mode": {
    "name": "ipython",
    "version": 3
   },
   "file_extension": ".py",
   "mimetype": "text/x-python",
   "name": "python",
   "nbconvert_exporter": "python",
   "pygments_lexer": "ipython3",
   "version": "3.6.12"
  }
 },
 "nbformat": 4,
 "nbformat_minor": 4
}
